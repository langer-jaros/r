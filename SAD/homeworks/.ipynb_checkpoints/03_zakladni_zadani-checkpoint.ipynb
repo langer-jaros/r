{
 "cells": [
  {
   "cell_type": "markdown",
   "metadata": {
    "toc": true
   },
   "source": [
    "<h1>Table of Contents<span class=\"tocSkip\"></span></h1>\n",
    "<div class=\"toc\"><ul class=\"toc-item\"><li><span><a href=\"#Úhlopříčka-čtverce\" data-toc-modified-id=\"Úhlopříčka-čtverce-1\"><span class=\"toc-item-num\">1&nbsp;&nbsp;</span>Úhlopříčka čtverce</a></span></li><li><span><a href=\"#Úhlopříčka-krychle\" data-toc-modified-id=\"Úhlopříčka-krychle-2\"><span class=\"toc-item-num\">2&nbsp;&nbsp;</span>Úhlopříčka krychle</a></span></li><li><span><a href=\"#Kontrola\" data-toc-modified-id=\"Kontrola-3\"><span class=\"toc-item-num\">3&nbsp;&nbsp;</span>Kontrola</a></span></li><li><span><a href=\"#Převod\" data-toc-modified-id=\"Převod-4\"><span class=\"toc-item-num\">4&nbsp;&nbsp;</span>Převod</a></span></li><li><span><a href=\"#Konjunkce-a-Disjunkce\" data-toc-modified-id=\"Konjunkce-a-Disjunkce-5\"><span class=\"toc-item-num\">5&nbsp;&nbsp;</span>Konjunkce a Disjunkce</a></span></li><li><span><a href=\"#Funkce-pro-výpočet-úhlopříčky-čtverce-a-krychle\" data-toc-modified-id=\"Funkce-pro-výpočet-úhlopříčky-čtverce-a-krychle-6\"><span class=\"toc-item-num\">6&nbsp;&nbsp;</span>Funkce pro výpočet úhlopříčky čtverce a krychle</a></span></li></ul></div>"
   ]
  },
  {
   "cell_type": "markdown",
   "metadata": {},
   "source": [
    "# Základní úlohy\n",
    "\n",
    "Zde je několik úloh na procvičení základních stavebních prvků jazyka R. Především se jedná o přiřazování do proměnných a operace s různými datovými typy.\n",
    "\n",
    "## Úhlopříčka čtverce\n",
    "\n",
    "Vypočťete postupně délky úhlopříček čtverců se stranami o délce 5, 15 a 30 cm. Výsledek výpočtu vždy uložte do proměnné `u` a její hodnotu vytiskněte na konzoli."
   ]
  },
  {
   "cell_type": "code",
   "execution_count": 1,
   "metadata": {},
   "outputs": [
    {
     "name": "stdout",
     "output_type": "stream",
     "text": [
      "[1] 2.236068 3.872983 5.477226\n"
     ]
    }
   ],
   "source": [
    "sides <- c(5, 15, 30)\n",
    "diagonals <- rep(sides)\n",
    "index <- 1\n",
    "dimension <- 2\n",
    "\n",
    "for (side in sides) {\n",
    "    u <- side ** (1/dimension)\n",
    "    diagonals[index] <- u\n",
    "    index <- index + 1\n",
    "}\n",
    "print(diagonals)"
   ]
  },
  {
   "cell_type": "markdown",
   "metadata": {},
   "source": [
    "## Úhlopříčka krychle\n",
    "\n",
    "Upravte předchozí kód tak, aby proměnná `u` obsahovala délku tělesové úhlopříčky příslušné krychle."
   ]
  },
  {
   "cell_type": "code",
   "execution_count": 2,
   "metadata": {},
   "outputs": [
    {
     "name": "stdout",
     "output_type": "stream",
     "text": [
      "[1] 1.709976 2.466212 3.107233\n"
     ]
    }
   ],
   "source": [
    "sides <- c(5, 15, 30)\n",
    "diagonals <- rep(sides)\n",
    "index <- 1\n",
    "dimension <- 3\n",
    "\n",
    "for (side in sides) {\n",
    "    u <- side ** (1/dimension)\n",
    "    diagonals[index] <- u\n",
    "    index <- index + 1\n",
    "}\n",
    "print(diagonals)"
   ]
  },
  {
   "cell_type": "markdown",
   "metadata": {},
   "source": [
    "## Kontrola\n",
    "\n",
    "Zkontrolujte, zda následující příkazy vrací numerické hodnoty (čili, že mód návratových hodnot je `numeric`):"
   ]
  },
  {
   "cell_type": "code",
   "execution_count": 3,
   "metadata": {},
   "outputs": [
    {
     "name": "stdout",
     "output_type": "stream",
     "text": [
      "[1] 5\n",
      "[1] \"5\"\n"
     ]
    },
    {
     "data": {
      "text/html": [
       "25"
      ],
      "text/latex": [
       "25"
      ],
      "text/markdown": [
       "25"
      ],
      "text/plain": [
       "[1] 25"
      ]
     },
     "metadata": {},
     "output_type": "display_data"
    },
    {
     "data": {
      "text/html": [
       "TRUE"
      ],
      "text/latex": [
       "TRUE"
      ],
      "text/markdown": [
       "TRUE"
      ],
      "text/plain": [
       "[1] TRUE"
      ]
     },
     "metadata": {},
     "output_type": "display_data"
    }
   ],
   "source": [
    "print(5)\n",
    "print(\"5\")\n",
    "5 * 5\n",
    "'numeric' > 10"
   ]
  },
  {
   "cell_type": "code",
   "execution_count": 4,
   "metadata": {},
   "outputs": [
    {
     "name": "stdout",
     "output_type": "stream",
     "text": [
      "[1] 5\n"
     ]
    },
    {
     "data": {
      "text/html": [
       "'\"print(5)\" : assumption that this command returns numeric values is TRUE'"
      ],
      "text/latex": [
       "'\"print(5)\" : assumption that this command returns numeric values is TRUE'"
      ],
      "text/markdown": [
       "'\"print(5)\" : assumption that this command returns numeric values is TRUE'"
      ],
      "text/plain": [
       "[1] \"\\\"print(5)\\\" : assumption that this command returns numeric values is TRUE\""
      ]
     },
     "metadata": {},
     "output_type": "display_data"
    },
    {
     "name": "stdout",
     "output_type": "stream",
     "text": [
      "[1] \"5\"\n"
     ]
    },
    {
     "data": {
      "text/html": [
       "'\"print(\"5\")\" : assumption that this command returns numeric values is FALSE'"
      ],
      "text/latex": [
       "'\"print(\"5\")\" : assumption that this command returns numeric values is FALSE'"
      ],
      "text/markdown": [
       "'\"print(\"5\")\" : assumption that this command returns numeric values is FALSE'"
      ],
      "text/plain": [
       "[1] \"\\\"print(\\\"5\\\")\\\" : assumption that this command returns numeric values is FALSE\""
      ]
     },
     "metadata": {},
     "output_type": "display_data"
    },
    {
     "data": {
      "text/html": [
       "'\"5 * 5\" : assumption that this command returns numeric values is TRUE'"
      ],
      "text/latex": [
       "'\"5 * 5\" : assumption that this command returns numeric values is TRUE'"
      ],
      "text/markdown": [
       "'\"5 * 5\" : assumption that this command returns numeric values is TRUE'"
      ],
      "text/plain": [
       "[1] \"\\\"5 * 5\\\" : assumption that this command returns numeric values is TRUE\""
      ]
     },
     "metadata": {},
     "output_type": "display_data"
    },
    {
     "data": {
      "text/html": [
       "'\"\\'numeric\\' &gt; 10\" : assumption that this command returns numeric values is FALSE'"
      ],
      "text/latex": [
       "'\"\\textbackslash{}'numeric\\textbackslash{}' > 10\" : assumption that this command returns numeric values is FALSE'"
      ],
      "text/markdown": [
       "'\"\\'numeric\\' &gt; 10\" : assumption that this command returns numeric values is FALSE'"
      ],
      "text/plain": [
       "[1] \"\\\"'numeric' > 10\\\" : assumption that this command returns numeric values is FALSE\""
      ]
     },
     "metadata": {},
     "output_type": "display_data"
    }
   ],
   "source": [
    "message <- \": assumption that this command returns numeric values is\"\n",
    "\n",
    "paste('\"print(5)\"', message, mode(print(5)) == 'numeric', sep=\" \")\n",
    "paste('\"print(\"5\")\"', message, mode(print(\"5\")) == 'numeric', sep=\" \")\n",
    "paste('\"5 * 5\"', message, mode(5 * 5) == 'numeric', sep=\" \")\n",
    "paste('\"\\'numeric\\' > 10\"', message, mode('numeric' > 10) == 'numeric', sep=\" \")"
   ]
  },
  {
   "cell_type": "markdown",
   "metadata": {},
   "source": [
    "## Převod\n",
    "\n",
    "Převeďte výsledky všech výrazů výše, které nevrací numerickou hodnotu, na numerické a ověřte si správnost převodu."
   ]
  },
  {
   "cell_type": "code",
   "execution_count": 5,
   "metadata": {},
   "outputs": [
    {
     "name": "stdout",
     "output_type": "stream",
     "text": [
      "[1] \"5\"\n"
     ]
    },
    {
     "data": {
      "text/html": [
       "'as.numeric(print(\"5\")) : assumption that this command returns numeric values is TRUE'"
      ],
      "text/latex": [
       "'as.numeric(print(\"5\")) : assumption that this command returns numeric values is TRUE'"
      ],
      "text/markdown": [
       "'as.numeric(print(\"5\")) : assumption that this command returns numeric values is TRUE'"
      ],
      "text/plain": [
       "[1] \"as.numeric(print(\\\"5\\\")) : assumption that this command returns numeric values is TRUE\""
      ]
     },
     "metadata": {},
     "output_type": "display_data"
    },
    {
     "data": {
      "text/html": [
       "'as.numeric(\\'numeric\\' &gt; 10) : assumption that this command returns numeric values is TRUE'"
      ],
      "text/latex": [
       "'as.numeric(\\textbackslash{}'numeric\\textbackslash{}' > 10) : assumption that this command returns numeric values is TRUE'"
      ],
      "text/markdown": [
       "'as.numeric(\\'numeric\\' &gt; 10) : assumption that this command returns numeric values is TRUE'"
      ],
      "text/plain": [
       "[1] \"as.numeric('numeric' > 10) : assumption that this command returns numeric values is TRUE\""
      ]
     },
     "metadata": {},
     "output_type": "display_data"
    }
   ],
   "source": [
    "message <- \": assumption that this command returns numeric values is\"\n",
    "\n",
    "paste('as.numeric(print(\"5\"))', message, mode(as.numeric(print(\"5\"))) == 'numeric', sep=\" \")\n",
    "paste('as.numeric(\\'numeric\\' > 10)', message, mode(as.numeric('numeric' > 10)) == 'numeric', sep=\" \")"
   ]
  },
  {
   "cell_type": "markdown",
   "metadata": {},
   "source": [
    "## Konjunkce a Disjunkce\n",
    "\n",
    "Pomocí logických proměnných zreprodukujte hodnoty v tabulce konjunkce, disjunkce nebo jiné. Možnosti [zde](https://cs.wikipedia.org/wiki/Tabulka_pravdivostn%C3%ADch_hodnot_z%C3%A1kladn%C3%ADch_slo%C5%BEen%C3%BDch_v%C3%BDrok%C5%AF#Konjunkce)."
   ]
  },
  {
   "cell_type": "code",
   "execution_count": 6,
   "metadata": {},
   "outputs": [
    {
     "data": {
      "text/html": [
       "<span style=white-space:pre-wrap>'    A    |     B    | (A AND B)'</span>"
      ],
      "text/latex": [
       "'    A    \\textbar{}     B    \\textbar{} (A AND B)'"
      ],
      "text/markdown": [
       "<span style=white-space:pre-wrap>'    A    |     B    | (A AND B)'</span>"
      ],
      "text/plain": [
       "[1] \"    A    |     B    | (A AND B)\""
      ]
     },
     "metadata": {},
     "output_type": "display_data"
    },
    {
     "data": {
      "text/html": [
       "'FALSE | FALSE | FALSE'"
      ],
      "text/latex": [
       "'FALSE \\textbar{} FALSE \\textbar{} FALSE'"
      ],
      "text/markdown": [
       "'FALSE | FALSE | FALSE'"
      ],
      "text/plain": [
       "[1] \"FALSE | FALSE | FALSE\""
      ]
     },
     "metadata": {},
     "output_type": "display_data"
    },
    {
     "data": {
      "text/html": [
       "'FALSE | TRUE | FALSE'"
      ],
      "text/latex": [
       "'FALSE \\textbar{} TRUE \\textbar{} FALSE'"
      ],
      "text/markdown": [
       "'FALSE | TRUE | FALSE'"
      ],
      "text/plain": [
       "[1] \"FALSE | TRUE | FALSE\""
      ]
     },
     "metadata": {},
     "output_type": "display_data"
    },
    {
     "data": {
      "text/html": [
       "'TRUE | FALSE | FALSE'"
      ],
      "text/latex": [
       "'TRUE \\textbar{} FALSE \\textbar{} FALSE'"
      ],
      "text/markdown": [
       "'TRUE | FALSE | FALSE'"
      ],
      "text/plain": [
       "[1] \"TRUE | FALSE | FALSE\""
      ]
     },
     "metadata": {},
     "output_type": "display_data"
    },
    {
     "data": {
      "text/html": [
       "'TRUE | TRUE | TRUE'"
      ],
      "text/latex": [
       "'TRUE \\textbar{} TRUE \\textbar{} TRUE'"
      ],
      "text/markdown": [
       "'TRUE | TRUE | TRUE'"
      ],
      "text/plain": [
       "[1] \"TRUE | TRUE | TRUE\""
      ]
     },
     "metadata": {},
     "output_type": "display_data"
    }
   ],
   "source": [
    "# Did not worked as planned\n",
    "# print(paste(paste(F, F, F && F, sep=' '),\n",
    "#         paste(F, T, F && T, sep=' '),\n",
    "#         paste(T, F, T && F, sep=' '),\n",
    "#         paste(T, T, T && T, sep=' '), sep=\"\\n\"))\n",
    "\n",
    "paste(\"    A   \", \"    B   \", \"(A AND B)\", sep=' | ')\n",
    "paste(F, F, F && F, sep=' | ')\n",
    "paste(F, T, F && T, sep=' | ')\n",
    "paste(T, F, T && F, sep=' | ')\n",
    "paste(T, T, T && T, sep=' | ')"
   ]
  },
  {
   "cell_type": "markdown",
   "metadata": {},
   "source": [
    "## Funkce pro výpočet úhlopříčky čtverce a krychle\n",
    "\n",
    "Vytvořte funkce pro výpočet úhlopříčky čtverce a krychle. Aplikujte je při řešení první a druhé úlohy v tomto notebooku."
   ]
  },
  {
   "cell_type": "code",
   "execution_count": 8,
   "metadata": {},
   "outputs": [
    {
     "name": "stdout",
     "output_type": "stream",
     "text": [
      "[1] \"Sides: 5\"  \"Sides: 15\" \"Sides: 30\"\n",
      "[1] \"Dimension: 2\"\n",
      "[1] 2.236068 3.872983 5.477226\n",
      "[1] \"Dimension: 3\"\n",
      "[1] 1.709976 2.466212 3.107233\n"
     ]
    }
   ],
   "source": [
    "count_diagonal <- function(side, dimension)\n",
    "{\n",
    "    side ** (1/dimension)\n",
    "}\n",
    "\n",
    "sides <- c(5, 15, 30)\n",
    "print(paste(\"Sides:\", sides, sep=' '))\n",
    "dimensions <- c(2,3)\n",
    "\n",
    "for (dim in dimensions) {\n",
    "    print(paste(\"Dimension:\", dim, sep=' '))\n",
    "    diagonals <- rep(sides)\n",
    "    index <- 1\n",
    "    for (side in sides) {\n",
    "        u <- count_diagonal(side, dim)\n",
    "        diagonals[index] <- u\n",
    "        index <- index + 1\n",
    "    }\n",
    "    print(diagonals)\n",
    "}"
   ]
  }
 ],
 "metadata": {
  "kernelspec": {
   "display_name": "R",
   "language": "R",
   "name": "ir"
  },
  "language_info": {
   "codemirror_mode": "r",
   "file_extension": ".r",
   "mimetype": "text/x-r-source",
   "name": "R",
   "pygments_lexer": "r",
   "version": "3.4.4"
  },
  "toc": {
   "base_numbering": 1,
   "nav_menu": {},
   "number_sections": true,
   "sideBar": true,
   "skip_h1_title": true,
   "title_cell": "Table of Contents",
   "title_sidebar": "Contents",
   "toc_cell": true,
   "toc_position": {},
   "toc_section_display": true,
   "toc_window_display": false
  }
 },
 "nbformat": 4,
 "nbformat_minor": 2
}
